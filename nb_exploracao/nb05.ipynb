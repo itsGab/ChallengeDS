{
 "cells": [
  {
   "cell_type": "markdown",
   "metadata": {},
   "source": [
    "# Analise Exploratoria Inicial"
   ]
  },
  {
   "cell_type": "markdown",
   "metadata": {},
   "source": [
    "## Bibliotecas necessarias + opções de visualização do Pandas"
   ]
  },
  {
   "cell_type": "code",
   "execution_count": 56,
   "metadata": {},
   "outputs": [],
   "source": [
    "import pandas as pd\n",
    "import numpy as np\n",
    "import json\n",
    "from urllib.request import urlopen\n",
    "import warnings\n",
    "\n",
    "pd.options.display.max_columns = 100\n",
    "pd.options.display.max_rows = 100\n",
    "pd.options.display.max_colwidth = 100\n",
    "pd.options.display.float_format = '{:,.2f}'.format\n",
    "warnings.filterwarnings('ignore')\n",
    "\n",
    "# Definindo uma seed padrao caso necessite de reproducibilidade.\n",
    "myseed = 484\n",
    "\n",
    "# Arquivos auxiliares\n",
    "from aux_files import *"
   ]
  },
  {
   "cell_type": "markdown",
   "metadata": {},
   "source": [
    "## Recebendo os dados e abrindo em um DataFrame"
   ]
  },
  {
   "cell_type": "markdown",
   "metadata": {},
   "source": [
    "Primeiramente, decidi por carregar o arquivo JSON em um variavel, para depois poder usar o `pandas.json_normalize()` o que ia me facilitar em nao ter que lidar com multiplas camadas das variaveis desse arquivo JSON. \n",
    "\n",
    "**Fonte dos dados**: [Github > alura-voz/Dados/Telco-Customer-Churn.json](https://github.com/sthemonica/alura-voz/blob/main/Dados/Telco-Customer-Churn.json)."
   ]
  },
  {
   "cell_type": "code",
   "execution_count": 57,
   "metadata": {},
   "outputs": [],
   "source": [
    "# pegando os dados do github e abrindo o json\n",
    "data_url = \"https://github.com/sthemonica/alura-voz/blob/main/Dados/Telco-Customer-Churn.json?raw=true\"\n",
    "response = urlopen(data_url)\n",
    "data_json = json.loads(response.read())\n",
    "\n",
    "# carregando o dataframe com json_normalize\n",
    "df = pd.json_normalize(data_json, max_level=2, sep='_')\n",
    "\n",
    "# removendo o prefixo\n",
    "df.columns = ['_'.join(cols.split('_')[1:]) if len(cols.split('_')) > 1 else cols for cols in df.columns]"
   ]
  },
  {
   "cell_type": "markdown",
   "metadata": {},
   "source": [
    "## Exploracao"
   ]
  },
  {
   "cell_type": "markdown",
   "metadata": {},
   "source": [
    "### Introducao"
   ]
  },
  {
   "cell_type": "markdown",
   "metadata": {},
   "source": [
    "Mostrando o cabecalho dos dados"
   ]
  },
  {
   "cell_type": "code",
   "execution_count": 58,
   "metadata": {},
   "outputs": [
    {
     "data": {
      "text/html": [
       "<div>\n",
       "<style scoped>\n",
       "    .dataframe tbody tr th:only-of-type {\n",
       "        vertical-align: middle;\n",
       "    }\n",
       "\n",
       "    .dataframe tbody tr th {\n",
       "        vertical-align: top;\n",
       "    }\n",
       "\n",
       "    .dataframe thead th {\n",
       "        text-align: right;\n",
       "    }\n",
       "</style>\n",
       "<table border=\"1\" class=\"dataframe\">\n",
       "  <thead>\n",
       "    <tr style=\"text-align: right;\">\n",
       "      <th></th>\n",
       "      <th>customerID</th>\n",
       "      <th>Churn</th>\n",
       "      <th>gender</th>\n",
       "      <th>SeniorCitizen</th>\n",
       "      <th>Partner</th>\n",
       "      <th>Dependents</th>\n",
       "      <th>tenure</th>\n",
       "      <th>PhoneService</th>\n",
       "      <th>MultipleLines</th>\n",
       "      <th>InternetService</th>\n",
       "      <th>OnlineSecurity</th>\n",
       "      <th>OnlineBackup</th>\n",
       "      <th>DeviceProtection</th>\n",
       "      <th>TechSupport</th>\n",
       "      <th>StreamingTV</th>\n",
       "      <th>StreamingMovies</th>\n",
       "      <th>Contract</th>\n",
       "      <th>PaperlessBilling</th>\n",
       "      <th>PaymentMethod</th>\n",
       "      <th>Charges_Monthly</th>\n",
       "      <th>Charges_Total</th>\n",
       "    </tr>\n",
       "  </thead>\n",
       "  <tbody>\n",
       "    <tr>\n",
       "      <th>0</th>\n",
       "      <td>0002-ORFBO</td>\n",
       "      <td>No</td>\n",
       "      <td>Female</td>\n",
       "      <td>0</td>\n",
       "      <td>Yes</td>\n",
       "      <td>Yes</td>\n",
       "      <td>9</td>\n",
       "      <td>Yes</td>\n",
       "      <td>No</td>\n",
       "      <td>DSL</td>\n",
       "      <td>No</td>\n",
       "      <td>Yes</td>\n",
       "      <td>No</td>\n",
       "      <td>Yes</td>\n",
       "      <td>Yes</td>\n",
       "      <td>No</td>\n",
       "      <td>One year</td>\n",
       "      <td>Yes</td>\n",
       "      <td>Mailed check</td>\n",
       "      <td>65.60</td>\n",
       "      <td>593.3</td>\n",
       "    </tr>\n",
       "    <tr>\n",
       "      <th>1</th>\n",
       "      <td>0003-MKNFE</td>\n",
       "      <td>No</td>\n",
       "      <td>Male</td>\n",
       "      <td>0</td>\n",
       "      <td>No</td>\n",
       "      <td>No</td>\n",
       "      <td>9</td>\n",
       "      <td>Yes</td>\n",
       "      <td>Yes</td>\n",
       "      <td>DSL</td>\n",
       "      <td>No</td>\n",
       "      <td>No</td>\n",
       "      <td>No</td>\n",
       "      <td>No</td>\n",
       "      <td>No</td>\n",
       "      <td>Yes</td>\n",
       "      <td>Month-to-month</td>\n",
       "      <td>No</td>\n",
       "      <td>Mailed check</td>\n",
       "      <td>59.90</td>\n",
       "      <td>542.4</td>\n",
       "    </tr>\n",
       "    <tr>\n",
       "      <th>2</th>\n",
       "      <td>0004-TLHLJ</td>\n",
       "      <td>Yes</td>\n",
       "      <td>Male</td>\n",
       "      <td>0</td>\n",
       "      <td>No</td>\n",
       "      <td>No</td>\n",
       "      <td>4</td>\n",
       "      <td>Yes</td>\n",
       "      <td>No</td>\n",
       "      <td>Fiber optic</td>\n",
       "      <td>No</td>\n",
       "      <td>No</td>\n",
       "      <td>Yes</td>\n",
       "      <td>No</td>\n",
       "      <td>No</td>\n",
       "      <td>No</td>\n",
       "      <td>Month-to-month</td>\n",
       "      <td>Yes</td>\n",
       "      <td>Electronic check</td>\n",
       "      <td>73.90</td>\n",
       "      <td>280.85</td>\n",
       "    </tr>\n",
       "    <tr>\n",
       "      <th>3</th>\n",
       "      <td>0011-IGKFF</td>\n",
       "      <td>Yes</td>\n",
       "      <td>Male</td>\n",
       "      <td>1</td>\n",
       "      <td>Yes</td>\n",
       "      <td>No</td>\n",
       "      <td>13</td>\n",
       "      <td>Yes</td>\n",
       "      <td>No</td>\n",
       "      <td>Fiber optic</td>\n",
       "      <td>No</td>\n",
       "      <td>Yes</td>\n",
       "      <td>Yes</td>\n",
       "      <td>No</td>\n",
       "      <td>Yes</td>\n",
       "      <td>Yes</td>\n",
       "      <td>Month-to-month</td>\n",
       "      <td>Yes</td>\n",
       "      <td>Electronic check</td>\n",
       "      <td>98.00</td>\n",
       "      <td>1237.85</td>\n",
       "    </tr>\n",
       "    <tr>\n",
       "      <th>4</th>\n",
       "      <td>0013-EXCHZ</td>\n",
       "      <td>Yes</td>\n",
       "      <td>Female</td>\n",
       "      <td>1</td>\n",
       "      <td>Yes</td>\n",
       "      <td>No</td>\n",
       "      <td>3</td>\n",
       "      <td>Yes</td>\n",
       "      <td>No</td>\n",
       "      <td>Fiber optic</td>\n",
       "      <td>No</td>\n",
       "      <td>No</td>\n",
       "      <td>No</td>\n",
       "      <td>Yes</td>\n",
       "      <td>Yes</td>\n",
       "      <td>No</td>\n",
       "      <td>Month-to-month</td>\n",
       "      <td>Yes</td>\n",
       "      <td>Mailed check</td>\n",
       "      <td>83.90</td>\n",
       "      <td>267.4</td>\n",
       "    </tr>\n",
       "  </tbody>\n",
       "</table>\n",
       "</div>"
      ],
      "text/plain": [
       "   customerID Churn  gender  SeniorCitizen Partner Dependents  tenure  \\\n",
       "0  0002-ORFBO    No  Female              0     Yes        Yes       9   \n",
       "1  0003-MKNFE    No    Male              0      No         No       9   \n",
       "2  0004-TLHLJ   Yes    Male              0      No         No       4   \n",
       "3  0011-IGKFF   Yes    Male              1     Yes         No      13   \n",
       "4  0013-EXCHZ   Yes  Female              1     Yes         No       3   \n",
       "\n",
       "  PhoneService MultipleLines InternetService OnlineSecurity OnlineBackup  \\\n",
       "0          Yes            No             DSL             No          Yes   \n",
       "1          Yes           Yes             DSL             No           No   \n",
       "2          Yes            No     Fiber optic             No           No   \n",
       "3          Yes            No     Fiber optic             No          Yes   \n",
       "4          Yes            No     Fiber optic             No           No   \n",
       "\n",
       "  DeviceProtection TechSupport StreamingTV StreamingMovies        Contract  \\\n",
       "0               No         Yes         Yes              No        One year   \n",
       "1               No          No          No             Yes  Month-to-month   \n",
       "2              Yes          No          No              No  Month-to-month   \n",
       "3              Yes          No         Yes             Yes  Month-to-month   \n",
       "4               No         Yes         Yes              No  Month-to-month   \n",
       "\n",
       "  PaperlessBilling     PaymentMethod  Charges_Monthly Charges_Total  \n",
       "0              Yes      Mailed check            65.60         593.3  \n",
       "1               No      Mailed check            59.90         542.4  \n",
       "2              Yes  Electronic check            73.90        280.85  \n",
       "3              Yes  Electronic check            98.00       1237.85  \n",
       "4              Yes      Mailed check            83.90         267.4  "
      ]
     },
     "execution_count": 58,
     "metadata": {},
     "output_type": "execute_result"
    }
   ],
   "source": [
    "df.head()"
   ]
  },
  {
   "cell_type": "markdown",
   "metadata": {},
   "source": [
    "Verificando se existem linhas duplicadas"
   ]
  },
  {
   "cell_type": "code",
   "execution_count": 59,
   "metadata": {},
   "outputs": [
    {
     "data": {
      "text/plain": [
       "0"
      ]
     },
     "execution_count": 59,
     "metadata": {},
     "output_type": "execute_result"
    }
   ],
   "source": [
    "df.duplicated().sum()"
   ]
  },
  {
   "cell_type": "markdown",
   "metadata": {},
   "source": [
    "> Nao existem linhas duplicadas."
   ]
  },
  {
   "cell_type": "markdown",
   "metadata": {},
   "source": [
    "Verificando as informacoes do DataFrame"
   ]
  },
  {
   "cell_type": "code",
   "execution_count": 60,
   "metadata": {},
   "outputs": [
    {
     "name": "stdout",
     "output_type": "stream",
     "text": [
      "<class 'pandas.core.frame.DataFrame'>\n",
      "RangeIndex: 7267 entries, 0 to 7266\n",
      "Data columns (total 21 columns):\n",
      " #   Column            Non-Null Count  Dtype  \n",
      "---  ------            --------------  -----  \n",
      " 0   customerID        7267 non-null   object \n",
      " 1   Churn             7267 non-null   object \n",
      " 2   gender            7267 non-null   object \n",
      " 3   SeniorCitizen     7267 non-null   int64  \n",
      " 4   Partner           7267 non-null   object \n",
      " 5   Dependents        7267 non-null   object \n",
      " 6   tenure            7267 non-null   int64  \n",
      " 7   PhoneService      7267 non-null   object \n",
      " 8   MultipleLines     7267 non-null   object \n",
      " 9   InternetService   7267 non-null   object \n",
      " 10  OnlineSecurity    7267 non-null   object \n",
      " 11  OnlineBackup      7267 non-null   object \n",
      " 12  DeviceProtection  7267 non-null   object \n",
      " 13  TechSupport       7267 non-null   object \n",
      " 14  StreamingTV       7267 non-null   object \n",
      " 15  StreamingMovies   7267 non-null   object \n",
      " 16  Contract          7267 non-null   object \n",
      " 17  PaperlessBilling  7267 non-null   object \n",
      " 18  PaymentMethod     7267 non-null   object \n",
      " 19  Charges_Monthly   7267 non-null   float64\n",
      " 20  Charges_Total     7267 non-null   object \n",
      "dtypes: float64(1), int64(2), object(18)\n",
      "memory usage: 1.2+ MB\n"
     ]
    }
   ],
   "source": [
    "df.info()"
   ]
  },
  {
   "cell_type": "markdown",
   "metadata": {},
   "source": [
    "> Analisando o `DataFrame.info()`  é possível verificar que:\n",
    "> * O `DataFrame` é formado de 7267 linhas (do `index` 0 ao 7266) e por 21 colunas.\n",
    "> * Todas as 21 colunas possuem os 7267 valores `non-null` (não nulos)\n",
    "> * A coluna `Charges_Total` da qual é esperado que o tipo dos dados sejam numéricos estão como `Dtype: object` (string, texto)"
   ]
  },
  {
   "cell_type": "markdown",
   "metadata": {},
   "source": [
    "Verificando mais atributos das colunas com um funcao que fiz.\n",
    "* `nunique` - representa a quanitade de valores unicos\n",
    "* `isnull` - quantidade de valores nulos (ou `np.nan`)\n",
    "* `black` - quantidade de valor com valores string vazios ou somente com espacos\n",
    "* `dtypes` - tipo dos dados da coluna\n",
    "* `unique` - mostra os valores unicos, caso o numero de unicos seja menor que 5"
   ]
  },
  {
   "cell_type": "code",
   "execution_count": 61,
   "metadata": {},
   "outputs": [
    {
     "data": {
      "text/html": [
       "<div>\n",
       "<style scoped>\n",
       "    .dataframe tbody tr th:only-of-type {\n",
       "        vertical-align: middle;\n",
       "    }\n",
       "\n",
       "    .dataframe tbody tr th {\n",
       "        vertical-align: top;\n",
       "    }\n",
       "\n",
       "    .dataframe thead th {\n",
       "        text-align: right;\n",
       "    }\n",
       "</style>\n",
       "<table border=\"1\" class=\"dataframe\">\n",
       "  <thead>\n",
       "    <tr style=\"text-align: right;\">\n",
       "      <th></th>\n",
       "      <th>nunique</th>\n",
       "      <th>isnull</th>\n",
       "      <th>blank</th>\n",
       "      <th>dtypes</th>\n",
       "      <th>unique</th>\n",
       "    </tr>\n",
       "    <tr>\n",
       "      <th>name</th>\n",
       "      <th></th>\n",
       "      <th></th>\n",
       "      <th></th>\n",
       "      <th></th>\n",
       "      <th></th>\n",
       "    </tr>\n",
       "  </thead>\n",
       "  <tbody>\n",
       "    <tr>\n",
       "      <th>customerID</th>\n",
       "      <td>7267</td>\n",
       "      <td>0</td>\n",
       "      <td>0</td>\n",
       "      <td>object</td>\n",
       "      <td>-</td>\n",
       "    </tr>\n",
       "    <tr>\n",
       "      <th>Churn</th>\n",
       "      <td>3</td>\n",
       "      <td>0</td>\n",
       "      <td>224</td>\n",
       "      <td>object</td>\n",
       "      <td>[No, Yes, ]</td>\n",
       "    </tr>\n",
       "    <tr>\n",
       "      <th>gender</th>\n",
       "      <td>2</td>\n",
       "      <td>0</td>\n",
       "      <td>0</td>\n",
       "      <td>object</td>\n",
       "      <td>[Female, Male]</td>\n",
       "    </tr>\n",
       "    <tr>\n",
       "      <th>SeniorCitizen</th>\n",
       "      <td>2</td>\n",
       "      <td>0</td>\n",
       "      <td>0</td>\n",
       "      <td>int64</td>\n",
       "      <td>[0, 1]</td>\n",
       "    </tr>\n",
       "    <tr>\n",
       "      <th>Partner</th>\n",
       "      <td>2</td>\n",
       "      <td>0</td>\n",
       "      <td>0</td>\n",
       "      <td>object</td>\n",
       "      <td>[Yes, No]</td>\n",
       "    </tr>\n",
       "    <tr>\n",
       "      <th>Dependents</th>\n",
       "      <td>2</td>\n",
       "      <td>0</td>\n",
       "      <td>0</td>\n",
       "      <td>object</td>\n",
       "      <td>[Yes, No]</td>\n",
       "    </tr>\n",
       "    <tr>\n",
       "      <th>tenure</th>\n",
       "      <td>73</td>\n",
       "      <td>0</td>\n",
       "      <td>0</td>\n",
       "      <td>int64</td>\n",
       "      <td>-</td>\n",
       "    </tr>\n",
       "    <tr>\n",
       "      <th>PhoneService</th>\n",
       "      <td>2</td>\n",
       "      <td>0</td>\n",
       "      <td>0</td>\n",
       "      <td>object</td>\n",
       "      <td>[Yes, No]</td>\n",
       "    </tr>\n",
       "    <tr>\n",
       "      <th>MultipleLines</th>\n",
       "      <td>3</td>\n",
       "      <td>0</td>\n",
       "      <td>0</td>\n",
       "      <td>object</td>\n",
       "      <td>[No, Yes, No phone service]</td>\n",
       "    </tr>\n",
       "    <tr>\n",
       "      <th>InternetService</th>\n",
       "      <td>3</td>\n",
       "      <td>0</td>\n",
       "      <td>0</td>\n",
       "      <td>object</td>\n",
       "      <td>[DSL, Fiber optic, No]</td>\n",
       "    </tr>\n",
       "    <tr>\n",
       "      <th>OnlineSecurity</th>\n",
       "      <td>3</td>\n",
       "      <td>0</td>\n",
       "      <td>0</td>\n",
       "      <td>object</td>\n",
       "      <td>[No, Yes, No internet service]</td>\n",
       "    </tr>\n",
       "    <tr>\n",
       "      <th>OnlineBackup</th>\n",
       "      <td>3</td>\n",
       "      <td>0</td>\n",
       "      <td>0</td>\n",
       "      <td>object</td>\n",
       "      <td>[Yes, No, No internet service]</td>\n",
       "    </tr>\n",
       "    <tr>\n",
       "      <th>DeviceProtection</th>\n",
       "      <td>3</td>\n",
       "      <td>0</td>\n",
       "      <td>0</td>\n",
       "      <td>object</td>\n",
       "      <td>[No, Yes, No internet service]</td>\n",
       "    </tr>\n",
       "    <tr>\n",
       "      <th>TechSupport</th>\n",
       "      <td>3</td>\n",
       "      <td>0</td>\n",
       "      <td>0</td>\n",
       "      <td>object</td>\n",
       "      <td>[Yes, No, No internet service]</td>\n",
       "    </tr>\n",
       "    <tr>\n",
       "      <th>StreamingTV</th>\n",
       "      <td>3</td>\n",
       "      <td>0</td>\n",
       "      <td>0</td>\n",
       "      <td>object</td>\n",
       "      <td>[Yes, No, No internet service]</td>\n",
       "    </tr>\n",
       "    <tr>\n",
       "      <th>StreamingMovies</th>\n",
       "      <td>3</td>\n",
       "      <td>0</td>\n",
       "      <td>0</td>\n",
       "      <td>object</td>\n",
       "      <td>[No, Yes, No internet service]</td>\n",
       "    </tr>\n",
       "    <tr>\n",
       "      <th>Contract</th>\n",
       "      <td>3</td>\n",
       "      <td>0</td>\n",
       "      <td>0</td>\n",
       "      <td>object</td>\n",
       "      <td>[One year, Month-to-month, Two year]</td>\n",
       "    </tr>\n",
       "    <tr>\n",
       "      <th>PaperlessBilling</th>\n",
       "      <td>2</td>\n",
       "      <td>0</td>\n",
       "      <td>0</td>\n",
       "      <td>object</td>\n",
       "      <td>[Yes, No]</td>\n",
       "    </tr>\n",
       "    <tr>\n",
       "      <th>PaymentMethod</th>\n",
       "      <td>4</td>\n",
       "      <td>0</td>\n",
       "      <td>0</td>\n",
       "      <td>object</td>\n",
       "      <td>[Mailed check, Electronic check, Credit card (automatic), Bank transfer (automatic)]</td>\n",
       "    </tr>\n",
       "    <tr>\n",
       "      <th>Charges_Monthly</th>\n",
       "      <td>1585</td>\n",
       "      <td>0</td>\n",
       "      <td>0</td>\n",
       "      <td>float64</td>\n",
       "      <td>-</td>\n",
       "    </tr>\n",
       "    <tr>\n",
       "      <th>Charges_Total</th>\n",
       "      <td>6531</td>\n",
       "      <td>0</td>\n",
       "      <td>11</td>\n",
       "      <td>object</td>\n",
       "      <td>-</td>\n",
       "    </tr>\n",
       "  </tbody>\n",
       "</table>\n",
       "</div>"
      ],
      "text/plain": [
       "                  nunique  isnull  blank   dtypes  \\\n",
       "name                                                \n",
       "customerID           7267       0      0   object   \n",
       "Churn                   3       0    224   object   \n",
       "gender                  2       0      0   object   \n",
       "SeniorCitizen           2       0      0    int64   \n",
       "Partner                 2       0      0   object   \n",
       "Dependents              2       0      0   object   \n",
       "tenure                 73       0      0    int64   \n",
       "PhoneService            2       0      0   object   \n",
       "MultipleLines           3       0      0   object   \n",
       "InternetService         3       0      0   object   \n",
       "OnlineSecurity          3       0      0   object   \n",
       "OnlineBackup            3       0      0   object   \n",
       "DeviceProtection        3       0      0   object   \n",
       "TechSupport             3       0      0   object   \n",
       "StreamingTV             3       0      0   object   \n",
       "StreamingMovies         3       0      0   object   \n",
       "Contract                3       0      0   object   \n",
       "PaperlessBilling        2       0      0   object   \n",
       "PaymentMethod           4       0      0   object   \n",
       "Charges_Monthly      1585       0      0  float64   \n",
       "Charges_Total        6531       0     11   object   \n",
       "\n",
       "                                                                                                unique  \n",
       "name                                                                                                    \n",
       "customerID                                                                                           -  \n",
       "Churn                                                                                      [No, Yes, ]  \n",
       "gender                                                                                  [Female, Male]  \n",
       "SeniorCitizen                                                                                   [0, 1]  \n",
       "Partner                                                                                      [Yes, No]  \n",
       "Dependents                                                                                   [Yes, No]  \n",
       "tenure                                                                                               -  \n",
       "PhoneService                                                                                 [Yes, No]  \n",
       "MultipleLines                                                              [No, Yes, No phone service]  \n",
       "InternetService                                                                 [DSL, Fiber optic, No]  \n",
       "OnlineSecurity                                                          [No, Yes, No internet service]  \n",
       "OnlineBackup                                                            [Yes, No, No internet service]  \n",
       "DeviceProtection                                                        [No, Yes, No internet service]  \n",
       "TechSupport                                                             [Yes, No, No internet service]  \n",
       "StreamingTV                                                             [Yes, No, No internet service]  \n",
       "StreamingMovies                                                         [No, Yes, No internet service]  \n",
       "Contract                                                          [One year, Month-to-month, Two year]  \n",
       "PaperlessBilling                                                                             [Yes, No]  \n",
       "PaymentMethod     [Mailed check, Electronic check, Credit card (automatic), Bank transfer (automatic)]  \n",
       "Charges_Monthly                                                                                      -  \n",
       "Charges_Total                                                                                        -  "
      ]
     },
     "execution_count": 61,
     "metadata": {},
     "output_type": "execute_result"
    }
   ],
   "source": [
    "check_cols = df_check(df)\n",
    "check_cols.set_index('name', inplace=True)\n",
    "check_cols"
   ]
  },
  {
   "cell_type": "markdown",
   "metadata": {},
   "source": [
    "> Analisando atravez desse conjunto, pode-se perceber que as colunas que demandam atencao, sao:\n",
    "> * `Churn`, que contem dados em branco e é a variavel mais importanto, pois é a variavel alvo.\n",
    "> * `Charges_Total`, que tambem apresentados dados em branco e que deveria dtype: float64."
   ]
  },
  {
   "cell_type": "markdown",
   "metadata": {},
   "source": [
    "### Analisando as Colunas"
   ]
  },
  {
   "cell_type": "markdown",
   "metadata": {},
   "source": [
    "#### Dicionario de Informacao das Colunas"
   ]
  },
  {
   "cell_type": "code",
   "execution_count": 62,
   "metadata": {},
   "outputs": [
    {
     "data": {
      "text/html": [
       "<div>\n",
       "<style scoped>\n",
       "    .dataframe tbody tr th:only-of-type {\n",
       "        vertical-align: middle;\n",
       "    }\n",
       "\n",
       "    .dataframe tbody tr th {\n",
       "        vertical-align: top;\n",
       "    }\n",
       "\n",
       "    .dataframe thead th {\n",
       "        text-align: right;\n",
       "    }\n",
       "</style>\n",
       "<table border=\"1\" class=\"dataframe\">\n",
       "  <thead>\n",
       "    <tr style=\"text-align: right;\">\n",
       "      <th></th>\n",
       "      <th>info</th>\n",
       "    </tr>\n",
       "    <tr>\n",
       "      <th>name</th>\n",
       "      <th></th>\n",
       "    </tr>\n",
       "  </thead>\n",
       "  <tbody>\n",
       "    <tr>\n",
       "      <th>customerID</th>\n",
       "      <td>Número de identificação único de cada cliente</td>\n",
       "    </tr>\n",
       "    <tr>\n",
       "      <th>Churn</th>\n",
       "      <td>Se o cliente deixou ou não a empresa</td>\n",
       "    </tr>\n",
       "    <tr>\n",
       "      <th>gender</th>\n",
       "      <td>Gênero (masculino e feminino)</td>\n",
       "    </tr>\n",
       "    <tr>\n",
       "      <th>SeniorCitizen</th>\n",
       "      <td>Informação sobre um cliente ter ou não idade igual ou maior que 65 anos</td>\n",
       "    </tr>\n",
       "    <tr>\n",
       "      <th>Partner</th>\n",
       "      <td>Se o cliente possui ou não um parceiro ou parceira</td>\n",
       "    </tr>\n",
       "    <tr>\n",
       "      <th>Dependents</th>\n",
       "      <td>Se o cliente possui ou não dependentes</td>\n",
       "    </tr>\n",
       "    <tr>\n",
       "      <th>tenure</th>\n",
       "      <td>Meses de contrato do cliente</td>\n",
       "    </tr>\n",
       "    <tr>\n",
       "      <th>PhoneService</th>\n",
       "      <td>Assinatura de serviço telefônico</td>\n",
       "    </tr>\n",
       "    <tr>\n",
       "      <th>MultipleLines</th>\n",
       "      <td>Assisnatura de mais de uma linha de telefone</td>\n",
       "    </tr>\n",
       "    <tr>\n",
       "      <th>InternetService</th>\n",
       "      <td>Assinatura de um provedor internet</td>\n",
       "    </tr>\n",
       "    <tr>\n",
       "      <th>OnlineSecurity</th>\n",
       "      <td>Assinatura adicional de segurança online</td>\n",
       "    </tr>\n",
       "    <tr>\n",
       "      <th>OnlineBackup</th>\n",
       "      <td>Assinatura adicional de backup online</td>\n",
       "    </tr>\n",
       "    <tr>\n",
       "      <th>DeviceProtection</th>\n",
       "      <td>Assinatura adicional de proteção no dispositivo</td>\n",
       "    </tr>\n",
       "    <tr>\n",
       "      <th>TechSupport</th>\n",
       "      <td>Assinatura adicional de suporte técnico, menos tempo de espera</td>\n",
       "    </tr>\n",
       "    <tr>\n",
       "      <th>StreamingTV</th>\n",
       "      <td>Assinatura de TV a cabo</td>\n",
       "    </tr>\n",
       "    <tr>\n",
       "      <th>StreamingMovies</th>\n",
       "      <td>Assinatura de streaming de filmes</td>\n",
       "    </tr>\n",
       "    <tr>\n",
       "      <th>Contract</th>\n",
       "      <td>Tipo de contrato</td>\n",
       "    </tr>\n",
       "    <tr>\n",
       "      <th>PaperlessBilling</th>\n",
       "      <td>Se o cliente prefere receber online a fatura</td>\n",
       "    </tr>\n",
       "    <tr>\n",
       "      <th>PaymentMethod</th>\n",
       "      <td>Forma de pagamento</td>\n",
       "    </tr>\n",
       "    <tr>\n",
       "      <th>Charges_Monthly</th>\n",
       "      <td>Total de todos os serviços do cliente por mês</td>\n",
       "    </tr>\n",
       "    <tr>\n",
       "      <th>Charges_Total</th>\n",
       "      <td>Total gasto pelo cliente</td>\n",
       "    </tr>\n",
       "  </tbody>\n",
       "</table>\n",
       "</div>"
      ],
      "text/plain": [
       "                                                                                     info\n",
       "name                                                                                     \n",
       "customerID                                  Número de identificação único de cada cliente\n",
       "Churn                                                Se o cliente deixou ou não a empresa\n",
       "gender                                                      Gênero (masculino e feminino)\n",
       "SeniorCitizen     Informação sobre um cliente ter ou não idade igual ou maior que 65 anos\n",
       "Partner                                Se o cliente possui ou não um parceiro ou parceira\n",
       "Dependents                                         Se o cliente possui ou não dependentes\n",
       "tenure                                                       Meses de contrato do cliente\n",
       "PhoneService                                             Assinatura de serviço telefônico\n",
       "MultipleLines                                Assisnatura de mais de uma linha de telefone\n",
       "InternetService                                        Assinatura de um provedor internet\n",
       "OnlineSecurity                                   Assinatura adicional de segurança online\n",
       "OnlineBackup                                        Assinatura adicional de backup online\n",
       "DeviceProtection                          Assinatura adicional de proteção no dispositivo\n",
       "TechSupport                Assinatura adicional de suporte técnico, menos tempo de espera\n",
       "StreamingTV                                                       Assinatura de TV a cabo\n",
       "StreamingMovies                                         Assinatura de streaming de filmes\n",
       "Contract                                                                 Tipo de contrato\n",
       "PaperlessBilling                             Se o cliente prefere receber online a fatura\n",
       "PaymentMethod                                                          Forma de pagamento\n",
       "Charges_Monthly                             Total de todos os serviços do cliente por mês\n",
       "Charges_Total                                                    Total gasto pelo cliente"
      ]
     },
     "execution_count": 62,
     "metadata": {},
     "output_type": "execute_result"
    }
   ],
   "source": [
    "info_cols = pd.DataFrame(aux_info_colunas.items(), columns=['name', 'info'])\n",
    "info_cols.set_index('name', inplace=True)\n",
    "info_cols\n"
   ]
  },
  {
   "cell_type": "markdown",
   "metadata": {},
   "source": [
    "#### Investigando *Churn*"
   ]
  },
  {
   "cell_type": "code",
   "execution_count": 63,
   "metadata": {},
   "outputs": [
    {
     "data": {
      "text/plain": [
       "info    Se o cliente deixou ou não a empresa\n",
       "Name: Churn, dtype: object"
      ]
     },
     "execution_count": 63,
     "metadata": {},
     "output_type": "execute_result"
    }
   ],
   "source": [
    "info_cols.loc['Churn']"
   ]
  },
  {
   "cell_type": "code",
   "execution_count": 64,
   "metadata": {},
   "outputs": [
    {
     "data": {
      "text/plain": [
       "No     5174\n",
       "Yes    1869\n",
       "        224\n",
       "Name: Churn, dtype: int64"
      ]
     },
     "execution_count": 64,
     "metadata": {},
     "output_type": "execute_result"
    }
   ],
   "source": [
    "df['Churn'].value_counts()"
   ]
  },
  {
   "cell_type": "code",
   "execution_count": 65,
   "metadata": {},
   "outputs": [
    {
     "data": {
      "text/plain": [
       "No    71.20\n",
       "Yes   25.72\n",
       "       3.08\n",
       "Name: Churn, dtype: float64"
      ]
     },
     "execution_count": 65,
     "metadata": {},
     "output_type": "execute_result"
    }
   ],
   "source": [
    "df['Churn'].value_counts(normalize=True)*100"
   ]
  },
  {
   "cell_type": "markdown",
   "metadata": {},
   "source": [
    "> Como ja sabia por analise previa o `Churn` apresenta dados em branco, que representam 224 valores dos 7267. (3.08%). \n",
    "\n",
    "> Como nao temos um meio de saber o real valor desse dado a solucao encontrada é remover esses dados do conjunto de dados."
   ]
  },
  {
   "cell_type": "code",
   "execution_count": 66,
   "metadata": {},
   "outputs": [],
   "source": [
    "df = df.query('Churn != \"\"')"
   ]
  },
  {
   "cell_type": "code",
   "execution_count": 67,
   "metadata": {},
   "outputs": [
    {
     "data": {
      "text/plain": [
       "No     5174\n",
       "Yes    1869\n",
       "Name: Churn, dtype: int64"
      ]
     },
     "execution_count": 67,
     "metadata": {},
     "output_type": "execute_result"
    }
   ],
   "source": [
    "df['Churn'].value_counts()"
   ]
  },
  {
   "cell_type": "markdown",
   "metadata": {},
   "source": [
    "#### Investigando *Charges_Total*"
   ]
  },
  {
   "cell_type": "markdown",
   "metadata": {},
   "source": [
    "Verificando a moda, para ver qual o valor em branco. Supondo que seja um dos valores que mais aparecem"
   ]
  },
  {
   "cell_type": "code",
   "execution_count": 68,
   "metadata": {},
   "outputs": [
    {
     "data": {
      "text/plain": [
       "[' ', '20.2']"
      ]
     },
     "execution_count": 68,
     "metadata": {},
     "output_type": "execute_result"
    }
   ],
   "source": [
    "df['Charges_Total'].mode().tolist()"
   ]
  },
  {
   "cell_type": "markdown",
   "metadata": {},
   "source": [
    "Selecionando as linahs que aparecem com o `Charges_Total` em branco e as colunas de tempo de contrato e cobrancas mensais, para comparacao."
   ]
  },
  {
   "cell_type": "code",
   "execution_count": 69,
   "metadata": {},
   "outputs": [
    {
     "data": {
      "text/html": [
       "<div>\n",
       "<style scoped>\n",
       "    .dataframe tbody tr th:only-of-type {\n",
       "        vertical-align: middle;\n",
       "    }\n",
       "\n",
       "    .dataframe tbody tr th {\n",
       "        vertical-align: top;\n",
       "    }\n",
       "\n",
       "    .dataframe thead th {\n",
       "        text-align: right;\n",
       "    }\n",
       "</style>\n",
       "<table border=\"1\" class=\"dataframe\">\n",
       "  <thead>\n",
       "    <tr style=\"text-align: right;\">\n",
       "      <th></th>\n",
       "      <th>tenure</th>\n",
       "      <th>Charges_Monthly</th>\n",
       "      <th>Charges_Total</th>\n",
       "    </tr>\n",
       "  </thead>\n",
       "  <tbody>\n",
       "    <tr>\n",
       "      <th>975</th>\n",
       "      <td>0</td>\n",
       "      <td>56.05</td>\n",
       "      <td></td>\n",
       "    </tr>\n",
       "    <tr>\n",
       "      <th>1775</th>\n",
       "      <td>0</td>\n",
       "      <td>20.00</td>\n",
       "      <td></td>\n",
       "    </tr>\n",
       "    <tr>\n",
       "      <th>1955</th>\n",
       "      <td>0</td>\n",
       "      <td>61.90</td>\n",
       "      <td></td>\n",
       "    </tr>\n",
       "    <tr>\n",
       "      <th>2075</th>\n",
       "      <td>0</td>\n",
       "      <td>19.70</td>\n",
       "      <td></td>\n",
       "    </tr>\n",
       "    <tr>\n",
       "      <th>2232</th>\n",
       "      <td>0</td>\n",
       "      <td>20.25</td>\n",
       "      <td></td>\n",
       "    </tr>\n",
       "    <tr>\n",
       "      <th>2308</th>\n",
       "      <td>0</td>\n",
       "      <td>25.35</td>\n",
       "      <td></td>\n",
       "    </tr>\n",
       "    <tr>\n",
       "      <th>2930</th>\n",
       "      <td>0</td>\n",
       "      <td>73.35</td>\n",
       "      <td></td>\n",
       "    </tr>\n",
       "    <tr>\n",
       "      <th>3134</th>\n",
       "      <td>0</td>\n",
       "      <td>25.75</td>\n",
       "      <td></td>\n",
       "    </tr>\n",
       "    <tr>\n",
       "      <th>3203</th>\n",
       "      <td>0</td>\n",
       "      <td>52.55</td>\n",
       "      <td></td>\n",
       "    </tr>\n",
       "    <tr>\n",
       "      <th>4169</th>\n",
       "      <td>0</td>\n",
       "      <td>80.85</td>\n",
       "      <td></td>\n",
       "    </tr>\n",
       "    <tr>\n",
       "      <th>5599</th>\n",
       "      <td>0</td>\n",
       "      <td>19.85</td>\n",
       "      <td></td>\n",
       "    </tr>\n",
       "  </tbody>\n",
       "</table>\n",
       "</div>"
      ],
      "text/plain": [
       "      tenure  Charges_Monthly Charges_Total\n",
       "975        0            56.05              \n",
       "1775       0            20.00              \n",
       "1955       0            61.90              \n",
       "2075       0            19.70              \n",
       "2232       0            20.25              \n",
       "2308       0            25.35              \n",
       "2930       0            73.35              \n",
       "3134       0            25.75              \n",
       "3203       0            52.55              \n",
       "4169       0            80.85              \n",
       "5599       0            19.85              "
      ]
     },
     "execution_count": 69,
     "metadata": {},
     "output_type": "execute_result"
    }
   ],
   "source": [
    "colunas_numericas = ['tenure', 'Charges_Monthly', 'Charges_Total']\n",
    "\n",
    "df.query('Charges_Total == \" \"')[colunas_numericas]"
   ]
  },
  {
   "cell_type": "markdown",
   "metadata": {},
   "source": [
    "> Pode-se perceber que as colunas que apresentam `Charges_Total` em branco sao as que apresentam `tenure == 0`"
   ]
  },
  {
   "cell_type": "markdown",
   "metadata": {},
   "source": [
    "Substituindo os valores em branco para 0"
   ]
  },
  {
   "cell_type": "code",
   "execution_count": 70,
   "metadata": {},
   "outputs": [
    {
     "data": {
      "text/html": [
       "<div>\n",
       "<style scoped>\n",
       "    .dataframe tbody tr th:only-of-type {\n",
       "        vertical-align: middle;\n",
       "    }\n",
       "\n",
       "    .dataframe tbody tr th {\n",
       "        vertical-align: top;\n",
       "    }\n",
       "\n",
       "    .dataframe thead th {\n",
       "        text-align: right;\n",
       "    }\n",
       "</style>\n",
       "<table border=\"1\" class=\"dataframe\">\n",
       "  <thead>\n",
       "    <tr style=\"text-align: right;\">\n",
       "      <th></th>\n",
       "      <th>tenure</th>\n",
       "      <th>Charges_Monthly</th>\n",
       "      <th>Charges_Total</th>\n",
       "    </tr>\n",
       "  </thead>\n",
       "  <tbody>\n",
       "    <tr>\n",
       "      <th>count</th>\n",
       "      <td>7,043.00</td>\n",
       "      <td>7,043.00</td>\n",
       "      <td>7,043.00</td>\n",
       "    </tr>\n",
       "    <tr>\n",
       "      <th>mean</th>\n",
       "      <td>32.37</td>\n",
       "      <td>64.76</td>\n",
       "      <td>2,279.73</td>\n",
       "    </tr>\n",
       "    <tr>\n",
       "      <th>std</th>\n",
       "      <td>24.56</td>\n",
       "      <td>30.09</td>\n",
       "      <td>2,266.79</td>\n",
       "    </tr>\n",
       "    <tr>\n",
       "      <th>min</th>\n",
       "      <td>0.00</td>\n",
       "      <td>18.25</td>\n",
       "      <td>0.00</td>\n",
       "    </tr>\n",
       "    <tr>\n",
       "      <th>25%</th>\n",
       "      <td>9.00</td>\n",
       "      <td>35.50</td>\n",
       "      <td>398.55</td>\n",
       "    </tr>\n",
       "    <tr>\n",
       "      <th>50%</th>\n",
       "      <td>29.00</td>\n",
       "      <td>70.35</td>\n",
       "      <td>1,394.55</td>\n",
       "    </tr>\n",
       "    <tr>\n",
       "      <th>75%</th>\n",
       "      <td>55.00</td>\n",
       "      <td>89.85</td>\n",
       "      <td>3,786.60</td>\n",
       "    </tr>\n",
       "    <tr>\n",
       "      <th>max</th>\n",
       "      <td>72.00</td>\n",
       "      <td>118.75</td>\n",
       "      <td>8,684.80</td>\n",
       "    </tr>\n",
       "  </tbody>\n",
       "</table>\n",
       "</div>"
      ],
      "text/plain": [
       "        tenure  Charges_Monthly  Charges_Total\n",
       "count 7,043.00         7,043.00       7,043.00\n",
       "mean     32.37            64.76       2,279.73\n",
       "std      24.56            30.09       2,266.79\n",
       "min       0.00            18.25           0.00\n",
       "25%       9.00            35.50         398.55\n",
       "50%      29.00            70.35       1,394.55\n",
       "75%      55.00            89.85       3,786.60\n",
       "max      72.00           118.75       8,684.80"
      ]
     },
     "execution_count": 70,
     "metadata": {},
     "output_type": "execute_result"
    }
   ],
   "source": [
    "df['Charges_Total'] = pd.to_numeric(df['Charges_Total'], errors='coerce')\n",
    "df['Charges_Total'].fillna(0.0, inplace=True)\n",
    "df[colunas_numericas].describe()"
   ]
  },
  {
   "cell_type": "markdown",
   "metadata": {},
   "source": [
    "#### Investigando Colunas Numericas"
   ]
  },
  {
   "cell_type": "markdown",
   "metadata": {},
   "source": [
    "Conferir se as contas batem"
   ]
  },
  {
   "cell_type": "code",
   "execution_count": 71,
   "metadata": {},
   "outputs": [
    {
     "data": {
      "text/plain": [
       "8.874059349708931"
      ]
     },
     "execution_count": 71,
     "metadata": {},
     "output_type": "execute_result"
    }
   ],
   "source": [
    "(df['tenure'] * df['Charges_Monthly'] == df['Charges_Total']).sum()/df.shape[0]*100"
   ]
  },
  {
   "cell_type": "markdown",
   "metadata": {},
   "source": [
    "> 8.87% dos dados de `Charges_Total`, conferem com a conta `Charges_Monthly` * `tenure`\n",
    "\n",
    "> Solucao: A coluna `Charges_Total`, vai ser substituida pela conta `Charges_Monthly` * `tenure`, pois se eu fizer o contrario, nos meses de `tenure` = 0, a gasto mensal vai ser 0 tambem."
   ]
  },
  {
   "cell_type": "code",
   "execution_count": 72,
   "metadata": {},
   "outputs": [
    {
     "data": {
      "text/html": [
       "<div>\n",
       "<style scoped>\n",
       "    .dataframe tbody tr th:only-of-type {\n",
       "        vertical-align: middle;\n",
       "    }\n",
       "\n",
       "    .dataframe tbody tr th {\n",
       "        vertical-align: top;\n",
       "    }\n",
       "\n",
       "    .dataframe thead th {\n",
       "        text-align: right;\n",
       "    }\n",
       "</style>\n",
       "<table border=\"1\" class=\"dataframe\">\n",
       "  <thead>\n",
       "    <tr style=\"text-align: right;\">\n",
       "      <th></th>\n",
       "      <th>tenure</th>\n",
       "      <th>Charges_Monthly</th>\n",
       "      <th>Charges_Total</th>\n",
       "    </tr>\n",
       "  </thead>\n",
       "  <tbody>\n",
       "    <tr>\n",
       "      <th>0</th>\n",
       "      <td>9</td>\n",
       "      <td>65.60</td>\n",
       "      <td>590.40</td>\n",
       "    </tr>\n",
       "    <tr>\n",
       "      <th>1</th>\n",
       "      <td>9</td>\n",
       "      <td>59.90</td>\n",
       "      <td>539.10</td>\n",
       "    </tr>\n",
       "    <tr>\n",
       "      <th>2</th>\n",
       "      <td>4</td>\n",
       "      <td>73.90</td>\n",
       "      <td>295.60</td>\n",
       "    </tr>\n",
       "    <tr>\n",
       "      <th>3</th>\n",
       "      <td>13</td>\n",
       "      <td>98.00</td>\n",
       "      <td>1,274.00</td>\n",
       "    </tr>\n",
       "    <tr>\n",
       "      <th>4</th>\n",
       "      <td>3</td>\n",
       "      <td>83.90</td>\n",
       "      <td>251.70</td>\n",
       "    </tr>\n",
       "  </tbody>\n",
       "</table>\n",
       "</div>"
      ],
      "text/plain": [
       "   tenure  Charges_Monthly  Charges_Total\n",
       "0       9            65.60         590.40\n",
       "1       9            59.90         539.10\n",
       "2       4            73.90         295.60\n",
       "3      13            98.00       1,274.00\n",
       "4       3            83.90         251.70"
      ]
     },
     "execution_count": 72,
     "metadata": {},
     "output_type": "execute_result"
    }
   ],
   "source": [
    "df['Charges_Total'] = df['tenure'] * df['Charges_Monthly']\n",
    "\n",
    "df[colunas_numericas].head()"
   ]
  },
  {
   "cell_type": "markdown",
   "metadata": {},
   "source": [
    "#### `SeniorCitizen`"
   ]
  },
  {
   "cell_type": "markdown",
   "metadata": {},
   "source": [
    "para mandar o padrao, decidi alterar os valores da coluna `SeniorCitizen` para Yes e No, para manter o padrao, mesma sabendo que depois precisarei alterar novamente."
   ]
  },
  {
   "cell_type": "code",
   "execution_count": 73,
   "metadata": {},
   "outputs": [
    {
     "data": {
      "text/plain": [
       "array([0, 1], dtype=int64)"
      ]
     },
     "execution_count": 73,
     "metadata": {},
     "output_type": "execute_result"
    }
   ],
   "source": [
    "df['SeniorCitizen'].unique()"
   ]
  },
  {
   "cell_type": "code",
   "execution_count": 74,
   "metadata": {},
   "outputs": [],
   "source": [
    "df['SeniorCitizen'] = df['SeniorCitizen'].map({1: 'Yes', 0: 'No'})"
   ]
  },
  {
   "cell_type": "code",
   "execution_count": 77,
   "metadata": {},
   "outputs": [
    {
     "data": {
      "text/html": [
       "<div>\n",
       "<style scoped>\n",
       "    .dataframe tbody tr th:only-of-type {\n",
       "        vertical-align: middle;\n",
       "    }\n",
       "\n",
       "    .dataframe tbody tr th {\n",
       "        vertical-align: top;\n",
       "    }\n",
       "\n",
       "    .dataframe thead th {\n",
       "        text-align: right;\n",
       "    }\n",
       "</style>\n",
       "<table border=\"1\" class=\"dataframe\">\n",
       "  <thead>\n",
       "    <tr style=\"text-align: right;\">\n",
       "      <th></th>\n",
       "      <th>customerID</th>\n",
       "      <th>Churn</th>\n",
       "      <th>gender</th>\n",
       "      <th>SeniorCitizen</th>\n",
       "      <th>Partner</th>\n",
       "      <th>Dependents</th>\n",
       "      <th>tenure</th>\n",
       "      <th>PhoneService</th>\n",
       "      <th>MultipleLines</th>\n",
       "      <th>InternetService</th>\n",
       "      <th>OnlineSecurity</th>\n",
       "      <th>OnlineBackup</th>\n",
       "      <th>DeviceProtection</th>\n",
       "      <th>TechSupport</th>\n",
       "      <th>StreamingTV</th>\n",
       "      <th>StreamingMovies</th>\n",
       "      <th>Contract</th>\n",
       "      <th>PaperlessBilling</th>\n",
       "      <th>PaymentMethod</th>\n",
       "      <th>Charges_Monthly</th>\n",
       "      <th>Charges_Total</th>\n",
       "    </tr>\n",
       "  </thead>\n",
       "  <tbody>\n",
       "    <tr>\n",
       "      <th>0</th>\n",
       "      <td>0002-ORFBO</td>\n",
       "      <td>No</td>\n",
       "      <td>Female</td>\n",
       "      <td>No</td>\n",
       "      <td>Yes</td>\n",
       "      <td>Yes</td>\n",
       "      <td>9</td>\n",
       "      <td>Yes</td>\n",
       "      <td>No</td>\n",
       "      <td>DSL</td>\n",
       "      <td>No</td>\n",
       "      <td>Yes</td>\n",
       "      <td>No</td>\n",
       "      <td>Yes</td>\n",
       "      <td>Yes</td>\n",
       "      <td>No</td>\n",
       "      <td>One year</td>\n",
       "      <td>Yes</td>\n",
       "      <td>Mailed check</td>\n",
       "      <td>65.60</td>\n",
       "      <td>590.40</td>\n",
       "    </tr>\n",
       "    <tr>\n",
       "      <th>1</th>\n",
       "      <td>0003-MKNFE</td>\n",
       "      <td>No</td>\n",
       "      <td>Male</td>\n",
       "      <td>No</td>\n",
       "      <td>No</td>\n",
       "      <td>No</td>\n",
       "      <td>9</td>\n",
       "      <td>Yes</td>\n",
       "      <td>Yes</td>\n",
       "      <td>DSL</td>\n",
       "      <td>No</td>\n",
       "      <td>No</td>\n",
       "      <td>No</td>\n",
       "      <td>No</td>\n",
       "      <td>No</td>\n",
       "      <td>Yes</td>\n",
       "      <td>Month-to-month</td>\n",
       "      <td>No</td>\n",
       "      <td>Mailed check</td>\n",
       "      <td>59.90</td>\n",
       "      <td>539.10</td>\n",
       "    </tr>\n",
       "    <tr>\n",
       "      <th>2</th>\n",
       "      <td>0004-TLHLJ</td>\n",
       "      <td>Yes</td>\n",
       "      <td>Male</td>\n",
       "      <td>No</td>\n",
       "      <td>No</td>\n",
       "      <td>No</td>\n",
       "      <td>4</td>\n",
       "      <td>Yes</td>\n",
       "      <td>No</td>\n",
       "      <td>Fiber optic</td>\n",
       "      <td>No</td>\n",
       "      <td>No</td>\n",
       "      <td>Yes</td>\n",
       "      <td>No</td>\n",
       "      <td>No</td>\n",
       "      <td>No</td>\n",
       "      <td>Month-to-month</td>\n",
       "      <td>Yes</td>\n",
       "      <td>Electronic check</td>\n",
       "      <td>73.90</td>\n",
       "      <td>295.60</td>\n",
       "    </tr>\n",
       "    <tr>\n",
       "      <th>3</th>\n",
       "      <td>0011-IGKFF</td>\n",
       "      <td>Yes</td>\n",
       "      <td>Male</td>\n",
       "      <td>Yes</td>\n",
       "      <td>Yes</td>\n",
       "      <td>No</td>\n",
       "      <td>13</td>\n",
       "      <td>Yes</td>\n",
       "      <td>No</td>\n",
       "      <td>Fiber optic</td>\n",
       "      <td>No</td>\n",
       "      <td>Yes</td>\n",
       "      <td>Yes</td>\n",
       "      <td>No</td>\n",
       "      <td>Yes</td>\n",
       "      <td>Yes</td>\n",
       "      <td>Month-to-month</td>\n",
       "      <td>Yes</td>\n",
       "      <td>Electronic check</td>\n",
       "      <td>98.00</td>\n",
       "      <td>1,274.00</td>\n",
       "    </tr>\n",
       "    <tr>\n",
       "      <th>4</th>\n",
       "      <td>0013-EXCHZ</td>\n",
       "      <td>Yes</td>\n",
       "      <td>Female</td>\n",
       "      <td>Yes</td>\n",
       "      <td>Yes</td>\n",
       "      <td>No</td>\n",
       "      <td>3</td>\n",
       "      <td>Yes</td>\n",
       "      <td>No</td>\n",
       "      <td>Fiber optic</td>\n",
       "      <td>No</td>\n",
       "      <td>No</td>\n",
       "      <td>No</td>\n",
       "      <td>Yes</td>\n",
       "      <td>Yes</td>\n",
       "      <td>No</td>\n",
       "      <td>Month-to-month</td>\n",
       "      <td>Yes</td>\n",
       "      <td>Mailed check</td>\n",
       "      <td>83.90</td>\n",
       "      <td>251.70</td>\n",
       "    </tr>\n",
       "  </tbody>\n",
       "</table>\n",
       "</div>"
      ],
      "text/plain": [
       "   customerID Churn  gender SeniorCitizen Partner Dependents  tenure  \\\n",
       "0  0002-ORFBO    No  Female            No     Yes        Yes       9   \n",
       "1  0003-MKNFE    No    Male            No      No         No       9   \n",
       "2  0004-TLHLJ   Yes    Male            No      No         No       4   \n",
       "3  0011-IGKFF   Yes    Male           Yes     Yes         No      13   \n",
       "4  0013-EXCHZ   Yes  Female           Yes     Yes         No       3   \n",
       "\n",
       "  PhoneService MultipleLines InternetService OnlineSecurity OnlineBackup  \\\n",
       "0          Yes            No             DSL             No          Yes   \n",
       "1          Yes           Yes             DSL             No           No   \n",
       "2          Yes            No     Fiber optic             No           No   \n",
       "3          Yes            No     Fiber optic             No          Yes   \n",
       "4          Yes            No     Fiber optic             No           No   \n",
       "\n",
       "  DeviceProtection TechSupport StreamingTV StreamingMovies        Contract  \\\n",
       "0               No         Yes         Yes              No        One year   \n",
       "1               No          No          No             Yes  Month-to-month   \n",
       "2              Yes          No          No              No  Month-to-month   \n",
       "3              Yes          No         Yes             Yes  Month-to-month   \n",
       "4               No         Yes         Yes              No  Month-to-month   \n",
       "\n",
       "  PaperlessBilling     PaymentMethod  Charges_Monthly  Charges_Total  \n",
       "0              Yes      Mailed check            65.60         590.40  \n",
       "1               No      Mailed check            59.90         539.10  \n",
       "2              Yes  Electronic check            73.90         295.60  \n",
       "3              Yes  Electronic check            98.00       1,274.00  \n",
       "4              Yes      Mailed check            83.90         251.70  "
      ]
     },
     "execution_count": 77,
     "metadata": {},
     "output_type": "execute_result"
    }
   ],
   "source": [
    "df.head()"
   ]
  },
  {
   "cell_type": "code",
   "execution_count": null,
   "metadata": {},
   "outputs": [],
   "source": []
  }
 ],
 "metadata": {
  "interpreter": {
   "hash": "c655665653b7733d2bb939ef3e84eaaf1ea354709a3848862e1281e08b9720c3"
  },
  "kernelspec": {
   "display_name": "Python 3.9.12 ('.env': venv)",
   "language": "python",
   "name": "python3"
  },
  "language_info": {
   "codemirror_mode": {
    "name": "ipython",
    "version": 3
   },
   "file_extension": ".py",
   "mimetype": "text/x-python",
   "name": "python",
   "nbconvert_exporter": "python",
   "pygments_lexer": "ipython3",
   "version": "3.9.13"
  },
  "orig_nbformat": 4
 },
 "nbformat": 4,
 "nbformat_minor": 2
}
